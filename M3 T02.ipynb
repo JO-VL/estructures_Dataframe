{
 "cells": [
  {
   "cell_type": "markdown",
   "id": "8850de3d",
   "metadata": {},
   "source": [
    "### EXERCICI 1"
   ]
  },
  {
   "cell_type": "markdown",
   "id": "ad887c90",
   "metadata": {},
   "source": [
    "Descarrega el data set Airlines Delay: Airline on-time statistics and delay causes i carrega’l a un Pandas Dataframe. Explora les dades que conté, explica breument quines variables hi ha i queda’t únicament amb les columnes que consideris rellevants. Justifica la teva elecció.\n",
    "\n",
    "Redueix la dimensió del dataset de manera aleatòria per tal d'obtenir un dataset de només 200.000 registres. Tots els exercicis s'han de fer amb aquest dataset reduït."
   ]
  },
  {
   "cell_type": "code",
   "execution_count": 1,
   "id": "95b957a0",
   "metadata": {},
   "outputs": [
    {
     "name": "stdout",
     "output_type": "stream",
     "text": [
      "        UniqueCarrier  AirTime  Distance  ArrDelay  DepDelay Origin Dest  \\\n",
      "1065809            B6    118.0       944       7.0      30.0    MCO  JFK   \n",
      "26867              WN     44.0       256      11.0      13.0    LAS  PHX   \n",
      "612461             YV     53.0       347      27.0      23.0    PHX  ELP   \n",
      "1185477            EV     55.0       357       6.0       6.0    ROA  ATL   \n",
      "1176262            DL    400.0      3110      22.0      14.0    CVG  ANC   \n",
      "...               ...      ...       ...       ...       ...    ...  ...   \n",
      "1274814            WN     70.0       377     291.0     300.0    MHT  BWI   \n",
      "725568             DL    119.0       874      46.0      37.0    SAT  ATL   \n",
      "1915650            B6     64.0       387     166.0     161.0    SMF  LGB   \n",
      "986932             DL    123.0       859       6.0       9.0    ATL  BDL   \n",
      "1356895            EV     56.0       433       3.0      12.0    ATL  EWN   \n",
      "\n",
      "         CarrierDelay  WeatherDelay  NASDelay  SecurityDelay  \\\n",
      "1065809           NaN           NaN       NaN            NaN   \n",
      "26867             NaN           NaN       NaN            NaN   \n",
      "612461           27.0           0.0       0.0            0.0   \n",
      "1185477           NaN           NaN       NaN            NaN   \n",
      "1176262           1.0           0.0       8.0            0.0   \n",
      "...               ...           ...       ...            ...   \n",
      "1274814           0.0           0.0       0.0            0.0   \n",
      "725568            0.0           0.0      46.0            0.0   \n",
      "1915650           0.0           0.0       5.0            0.0   \n",
      "986932            NaN           NaN       NaN            NaN   \n",
      "1356895           NaN           NaN       NaN            NaN   \n",
      "\n",
      "         LateAircraftDelay  \n",
      "1065809                NaN  \n",
      "26867                  NaN  \n",
      "612461                 0.0  \n",
      "1185477                NaN  \n",
      "1176262               13.0  \n",
      "...                    ...  \n",
      "1274814              291.0  \n",
      "725568                 0.0  \n",
      "1915650              161.0  \n",
      "986932                 NaN  \n",
      "1356895                NaN  \n",
      "\n",
      "[178152 rows x 12 columns]\n"
     ]
    }
   ],
   "source": [
    "import pandas as pd\n",
    "\n",
    "pd.options.display.max_rows = 10\n",
    "pd.options.display.max_columns = None\n",
    "\n",
    "df = pd.read_csv('DelayedFlights.csv')\n",
    "df = df.sample(n=200000)\n",
    "\n",
    "'''Hi ha molts de NaNs a les columnes de les causes dels delays. Això és degut a que hi ha vols \n",
    "que no han tingut delays. Filtrarem la taula per a que només apareguin els vols endarrerits(ArrDelay > 0). També exclourem\n",
    "els cancelats i els desviats, ja que aquests últims alteren les dades.'''\n",
    "\n",
    "df_neta = df[(df[\"Cancelled\"] == 0) & (df[\"Diverted\"] == 0) & (df[\"ArrDelay\"] > 0)]\n",
    "\n",
    "'''Una vegada fet això, seleccionarem les variables més importants, com són les de les causes dels delays, les rutes,\n",
    "les aerolínies...'''\n",
    "\n",
    "df_def = df_neta[['UniqueCarrier','AirTime', 'Distance', 'ArrDelay', 'DepDelay', 'Origin', 'Dest', 'CarrierDelay', \n",
    "                  'WeatherDelay', 'NASDelay', 'SecurityDelay', 'LateAircraftDelay']]\n",
    "\n",
    "print(df_def)\n",
    "\n"
   ]
  },
  {
   "cell_type": "markdown",
   "id": "d7f3a351",
   "metadata": {},
   "source": [
    "### EXERCICI 2"
   ]
  },
  {
   "cell_type": "markdown",
   "id": "b3e91b77",
   "metadata": {},
   "source": [
    "### Fes un informe complet del dataset:\n",
    "\n",
    "#### - Resumeix estadísticament el dataset i les columnes d’interès. Fes una anàlisi estadístic del que consideris rellevant."
   ]
  },
  {
   "cell_type": "code",
   "execution_count": 2,
   "id": "402cb8f4",
   "metadata": {},
   "outputs": [
    {
     "name": "stdout",
     "output_type": "stream",
     "text": [
      "TotalCarrierDelay =  2464318\n",
      "TotalWeatherDelay =  479143\n",
      "TotalNASDelay =  1946022\n",
      "TotalSecurityDelay =  10504\n",
      "TotalLateAircraftDelay =  3265946\n"
     ]
    }
   ],
   "source": [
    "TotalCarrierDelay = df_def['CarrierDelay'].sum()\n",
    "print('TotalCarrierDelay = ', TotalCarrierDelay.astype(int))\n",
    "\n",
    "TotalWeatherDelay = df_def['WeatherDelay'].sum()\n",
    "print('TotalWeatherDelay = ', TotalWeatherDelay.astype(int))\n",
    "\n",
    "TotalNASDelay = df_def['NASDelay'].sum()\n",
    "print('TotalNASDelay = ', TotalNASDelay.astype(int))\n",
    "\n",
    "TotalSecurityDelay = df_def['SecurityDelay'].sum()\n",
    "print('TotalSecurityDelay = ', TotalSecurityDelay.astype(int))\n",
    "\n",
    "TotalLateAircraftDelay = df_def['LateAircraftDelay'].sum()\n",
    "print('TotalLateAircraftDelay = ', TotalLateAircraftDelay.astype(int))"
   ]
  },
  {
   "cell_type": "code",
   "execution_count": 3,
   "id": "277302b4",
   "metadata": {},
   "outputs": [
    {
     "name": "stdout",
     "output_type": "stream",
     "text": [
      "3265946\n"
     ]
    }
   ],
   "source": [
    "MaxTotalDelay = max(TotalCarrierDelay, TotalWeatherDelay, TotalNASDelay, TotalSecurityDelay, TotalLateAircraftDelay)\n",
    "print(MaxTotalDelay.astype(int))"
   ]
  },
  {
   "cell_type": "markdown",
   "id": "19c3e015",
   "metadata": {},
   "source": [
    "Com podem veure, la causa més habitual dels endarreriments és LateAircraftDelay, que és un endarreriment produït perquè\n",
    "l'anterior vol ha arribat tard, generant un efecte dominó."
   ]
  },
  {
   "cell_type": "markdown",
   "id": "e12492e1",
   "metadata": {},
   "source": [
    "#### - Troba quantes dades faltants hi ha per columna."
   ]
  },
  {
   "cell_type": "code",
   "execution_count": 4,
   "id": "7ef06132",
   "metadata": {},
   "outputs": [
    {
     "name": "stdout",
     "output_type": "stream",
     "text": [
      "            variables  quantitat\n",
      "0       UniqueCarrier          0\n",
      "1             AirTime          0\n",
      "2            Distance          0\n",
      "3            ArrDelay          0\n",
      "4            DepDelay          0\n",
      "..                ...        ...\n",
      "7        CarrierDelay      49154\n",
      "8        WeatherDelay      49154\n",
      "9            NASDelay      49154\n",
      "10      SecurityDelay      49154\n",
      "11  LateAircraftDelay      49154\n",
      "\n",
      "[12 rows x 2 columns]\n"
     ]
    }
   ],
   "source": [
    "faltants = df_def.isnull().sum().reset_index()\n",
    "faltants = faltants.rename(columns={'index': 'variables', 0: 'quantitat'})\n",
    "\n",
    "\n",
    "print(faltants)"
   ]
  },
  {
   "cell_type": "markdown",
   "id": "a5e6f1d7",
   "metadata": {},
   "source": [
    "#### - Crea columnes noves (velocitat mitjana del vol, si ha arribat tard o no...)."
   ]
  },
  {
   "cell_type": "code",
   "execution_count": 5,
   "id": "ee0d48f2",
   "metadata": {},
   "outputs": [
    {
     "name": "stdout",
     "output_type": "stream",
     "text": [
      "1065809    768\n",
      "26867      558\n",
      "612461     628\n",
      "1185477    623\n",
      "1176262    746\n",
      "1657952    391\n",
      "1811298    923\n",
      "1039483    641\n",
      "598058     481\n",
      "44207      400\n",
      "Name: VelMitjana(km/h), dtype: int32\n",
      "\n",
      "1065809    True\n",
      "26867      True\n",
      "612461     True\n",
      "1185477    True\n",
      "1176262    True\n",
      "1657952    True\n",
      "1811298    True\n",
      "1039483    True\n",
      "598058     True\n",
      "44207      True\n",
      "Name: Endarrerit, dtype: bool\n"
     ]
    }
   ],
   "source": [
    "#'Airtime' és en minuts i 'Distance' és en milles, s'ha de convertir a km/h i eliminar els valors nulls.\n",
    "\n",
    "df_def = df_def.dropna(subset=['AirTime', 'Distance'])\n",
    "df_def['VelMitjana(km/h)'] = df_def['Distance']/df_def['AirTime'] * 1.6 * 60\n",
    "print(df_def['VelMitjana(km/h)'].head(10).astype(int))\n",
    "\n",
    "print()\n",
    "\n",
    "df_def = df_def.dropna(subset=['ArrDelay'])\n",
    "df_def['Endarrerit'] = df_def['ArrDelay'] > 0\n",
    "\n",
    "print(df_def['Endarrerit'].head(10))"
   ]
  },
  {
   "cell_type": "markdown",
   "id": "886e6016",
   "metadata": {},
   "source": [
    "#### - Fes una taula de les aerolínies amb més endarreriments acumulats."
   ]
  },
  {
   "cell_type": "code",
   "execution_count": 6,
   "id": "a352e076",
   "metadata": {},
   "outputs": [
    {
     "name": "stdout",
     "output_type": "stream",
     "text": [
      "   UniqueCarrier  TotalMinuts\n",
      "0             WN      1205176\n",
      "1             AA       920680\n",
      "2             UA       698256\n",
      "3             MQ       665650\n",
      "4             OO       608358\n",
      "5             XE       549051\n",
      "6             DL       482085\n",
      "7             CO       440005\n",
      "8             EV       405310\n",
      "9             US       392168\n",
      "10            YV       390907\n",
      "11            NW       341520\n",
      "12            FL       322204\n",
      "13            B6       315596\n",
      "14            OH       269977\n",
      "15            9E       262082\n",
      "16            AS       158171\n",
      "17            F9        84719\n",
      "18            HA        27997\n",
      "19            AQ         1970\n"
     ]
    }
   ],
   "source": [
    "aerolinees_endererrides = df_def.groupby('UniqueCarrier')['ArrDelay'].sum().astype(int)\n",
    "aerolinees_endererrides = aerolinees_endererrides.sort_values(ascending=False)\n",
    "aerolinees_endererrides = aerolinees_endererrides.reset_index(name=\"TotalMinuts\")\n",
    "\n",
    "pd.options.display.max_rows = 20\n",
    "\n",
    "print(aerolinees_endererrides)"
   ]
  },
  {
   "cell_type": "markdown",
   "id": "6dfdd704",
   "metadata": {},
   "source": [
    "#### - Quins són els vols més llargs? I els més endarrerits? Busca les rutes més llargues i les que acumulen més retards."
   ]
  },
  {
   "cell_type": "code",
   "execution_count": 7,
   "id": "bbea1436",
   "metadata": {},
   "outputs": [
    {
     "name": "stdout",
     "output_type": "stream",
     "text": [
      "Rutes més llargues:\n",
      "\n",
      "        Origin Dest  Distance\n",
      "871328     EWR  HNL      4962\n",
      "571938     ATL  HNL      4502\n",
      "1464101    HNL  ORD      4243\n",
      "1147069    KOA  ORD      4213\n",
      "1147089    ORD  OGG      4184\n",
      "1381167    HNL  MSP      3972\n",
      "1254820    HNL  IAH      3904\n",
      "1502153    DFW  HNL      3784\n",
      "691537     DFW  OGG      3711\n",
      "1082050    ANC  ATL      3417\n",
      "\n",
      "Rutes més endarrerides:\n",
      "\n",
      "     Origin Dest  TotalArrDelay\n",
      "3466    ORD  LGA          25878\n",
      "2581    LGA  ORD          23564\n",
      "2509    LAX  SFO          23354\n",
      "3437    ORD  EWR          22722\n",
      "4258    SFO  LAX          21761\n",
      "168     ATL  EWR          20475\n",
      "1634    EWR  ORD          20430\n",
      "207     ATL  LGA          20316\n",
      "1581    EWR  ATL          20248\n",
      "2544    LGA  ATL          17046\n"
     ]
    }
   ],
   "source": [
    "print(\"Rutes més llargues:\\n\")\n",
    "print(df_def[['Origin','Dest','Distance']].drop_duplicates('Distance').sort_values('Distance', ascending=False).head(10))\n",
    "\n",
    "\n",
    "rutes_mes_endarrerides = df_def.groupby(['Origin', 'Dest'])['ArrDelay'].sum().astype(int)\n",
    "rutes_mes_endarrerides = rutes_mes_endarrerides.reset_index(name=\"TotalArrDelay\")\n",
    "rutes_mes_endarrerides = rutes_mes_endarrerides.sort_values(by=\"TotalArrDelay\", ascending=False)\n",
    "\n",
    "print(\"\\nRutes més endarrerides:\\n\")\n",
    "print(rutes_mes_endarrerides.head(10))\n"
   ]
  },
  {
   "cell_type": "markdown",
   "id": "623d7487",
   "metadata": {},
   "source": [
    "#### - Aporta allò que consideris rellevant."
   ]
  },
  {
   "cell_type": "markdown",
   "id": "e21a7725",
   "metadata": {},
   "source": [
    "Amb totes aquestes dades podriem arribar a crear models de visualització per a veure patrons i tendències i trobar una solució parcial -no total, ja que sempre que existeixi factor humà serà impossible- als endarreriments. Amb les variables de les que disposem, podem veure que hi ha rutes on hi ha molts més enderreriments que a altres. Això es podria investigar per a saber si és degut, per exemple, a que per a determinades rutes només existeixen vols de certes companyies i que aquestes són, casualment, les que més fallen en quant a puntualitat (poc probable) o es deu a altres factors que s'haurien d'analitzar en profunditat."
   ]
  },
  {
   "cell_type": "markdown",
   "id": "94eb59b7",
   "metadata": {},
   "source": [
    "### EXERCICI 3"
   ]
  },
  {
   "cell_type": "markdown",
   "id": "a2f72f32",
   "metadata": {},
   "source": [
    "Exporta el dataset net i amb les noves columnes a Excel."
   ]
  },
  {
   "cell_type": "code",
   "execution_count": 8,
   "id": "c2f44c0a",
   "metadata": {},
   "outputs": [],
   "source": [
    "df_def.to_excel('exercici_delays.xlsx')"
   ]
  }
 ],
 "metadata": {
  "kernelspec": {
   "display_name": "Python 3 (ipykernel)",
   "language": "python",
   "name": "python3"
  },
  "language_info": {
   "codemirror_mode": {
    "name": "ipython",
    "version": 3
   },
   "file_extension": ".py",
   "mimetype": "text/x-python",
   "name": "python",
   "nbconvert_exporter": "python",
   "pygments_lexer": "ipython3",
   "version": "3.10.9"
  }
 },
 "nbformat": 4,
 "nbformat_minor": 5
}
